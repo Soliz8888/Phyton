{
  "nbformat": 4,
  "nbformat_minor": 0,
  "metadata": {
    "colab": {
      "provenance": [],
      "include_colab_link": true
    },
    "kernelspec": {
      "name": "python3",
      "display_name": "Python 3"
    },
    "language_info": {
      "name": "python"
    }
  },
  "cells": [
    {
      "cell_type": "markdown",
      "metadata": {
        "id": "view-in-github",
        "colab_type": "text"
      },
      "source": [
        "<a href=\"https://colab.research.google.com/github/Soliz8888/Phyton/blob/main/M2S7_EjemplosPython.ipynb\" target=\"_parent\"><img src=\"https://colab.research.google.com/assets/colab-badge.svg\" alt=\"Open In Colab\"/></a>"
      ]
    },
    {
      "cell_type": "markdown",
      "source": [
        "# Construcción de una calculadora\n",
        "\n",
        "Implementar operaciones básicas como suma, resta, multiplicación, y división.\n",
        "\n",
        "1.  Crear funciones independientes para cada operación (suma, resta, etc.) con parámetros que reciban los valores numéricos.\n",
        "2.  Manejar excepciones (por ejemplo, al dividir entre cero) utilizando módulos como try y except.\n",
        "3.  Organizar el código en módulos donde cada módulo se encargue de una operación diferente.\n",
        "4.  Incluir la opción de agregar funcionalidades adicionales utilizando bibliotecas como math para operaciones avanzadas.\n",
        "5.  Controlar el alcance de las variables en cada función, usando parámetros y retornos claros."
      ],
      "metadata": {
        "id": "fEHUtjEkAcQ6"
      }
    },
    {
      "cell_type": "code",
      "source": [
        "#### Codigo junior\n",
        "\n",
        "\n",
        "# Funciones básicas\n",
        "def suma(a, b):\n",
        "    return a + b\n",
        "\n",
        "def resta(a, b):\n",
        "    return a - b\n",
        "\n",
        "def multiplicacion(a, b):\n",
        "    return a * b\n",
        "\n",
        "def division(a, b):\n",
        "    try:\n",
        "        return a / b\n",
        "    except ZeroDivisionError:\n",
        "        return \"Error: No se puede dividir entre cero\"\n",
        "\n",
        "# Función principal que actúa como calculadora\n",
        "def calculadora():\n",
        "    print(\"Bienvenido a la calculadora\")\n",
        "    print(\"1. Suma\")\n",
        "    print(\"2. Resta\")\n",
        "    print(\"3. Multiplicación\")\n",
        "    print(\"4. División\")\n",
        "\n",
        "    opcion = int(input(\"Seleccione la operación (1-4): \"))\n",
        "\n",
        "    num1 = float(input(\"Ingrese el primer número: \"))\n",
        "    num2 = float(input(\"Ingrese el segundo número: \"))\n",
        "\n",
        "    if opcion == 1:\n",
        "        print(f\"El resultado de la suma es: {suma(num1, num2)}\")\n",
        "    elif opcion == 2:\n",
        "        print(f\"El resultado de la resta es: {resta(num1, num2)}\")\n",
        "    elif opcion == 3:\n",
        "        print(f\"El resultado de la multiplicación es: {multiplicacion(num1, num2)}\")\n",
        "    elif opcion == 4:\n",
        "        print(f\"El resultado de la división es: {division(num1, num2)}\")\n",
        "    else:\n",
        "        print(\"Operación no válida\")\n",
        "\n",
        "calculadora()\n"
      ],
      "metadata": {
        "id": "JxUPMgCzB5Y_"
      },
      "execution_count": null,
      "outputs": []
    },
    {
      "cell_type": "markdown",
      "source": [
        "# Menú de una tienda en línea\n",
        "\n",
        "Implementar un sistema que permita al usuario agregar productos al carrito, consultar el carrito, y proceder al pago.\n",
        "\n",
        "1.  Crear un módulo principal que muestre el menú y recoja la entrada del usuario.\n",
        "2.  Crear funciones específicas para cada funcionalidad, como agregar_producto, ver_carrito, y procesar_pago, cada una con parámetros adecuados para recibir datos.\n",
        "3.  Utilizar módulos para organizar las funciones relacionadas con el manejo de productos, el carrito, y los pagos.\n",
        "4.  Usar bibliotecas preconstruidas como json o pickle para guardar temporalmente los datos del carrito.\n",
        "5.  Controlar el alcance de las variables usando parámetros y asegurarse de que las funciones no dependen de variables globales."
      ],
      "metadata": {
        "id": "SOxInXUMArJU"
      }
    },
    {
      "cell_type": "markdown",
      "source": [
        "# Captura de calificaciones\n",
        "\n",
        "Implementar un sistema donde los usuarios puedan ingresar calificaciones y calcular el promedio de un grupo de alumnos.\n",
        "\n",
        "1.  Crear una función principal que recoja la entrada del usuario (nombre del alumno, calificación) y almacene los datos en una estructura adecuada (como un diccionario o lista).\n",
        "2.  Crear funciones independientes para tareas como capturar_calificaciones, calcular_promedio, y mostrar_informe, utilizando parámetros y retornos.\n",
        "3.  Dividir el código en módulos, separando la captura de datos, el procesamiento (promedio), y la generación del informe.\n",
        "4.  Utilizar bibliotecas como statistics para calcular de manera eficiente el promedio o desviaciones estándar.\n",
        "5.  Manejar el alcance de variables, asegurando que los datos de calificaciones no se modifiquen fuera de las funciones correspondientes."
      ],
      "metadata": {
        "id": "-8dfkM42A542"
      }
    },
    {
      "cell_type": "markdown",
      "source": [
        "# Seguimiento de movimientos (altas, bajas, cancelaciones)\n",
        "\n",
        "Implementar un sistema que permita registrar y gestionar movimientos (por ejemplo, altas, bajas, y cancelaciones) en un sistema.\n",
        "\n",
        "1.  Crear funciones que gestionen cada tipo de movimiento (alta, baja, cancelacion) con parámetros que reciban los datos relevantes.\n",
        "2.  Organizar el código en módulos, separando cada tipo de movimiento en su propio módulo para facilitar la modificación y mantenimiento del código.\n",
        "3.  Utilizar bibliotecas externas como csv o sqlite3 para el almacenamiento y seguimiento de los movimientos, logrando mayor flexibilidad y funcionalidad.\n",
        "4.  Usar módulos específicos para gestionar la base de datos o los archivos de almacenamiento, asegurando la modularidad del código.\n",
        "5.  Controlar el acceso y modificación de los datos mediante parámetros bien definidos en las funciones, sin el uso de variables globales."
      ],
      "metadata": {
        "id": "vjevA46ZBBoe"
      }
    }
  ]
}